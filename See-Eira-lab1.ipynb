{
 "cells": [
  {
   "cell_type": "markdown",
   "metadata": {},
   "source": [
    "194552\n",
    "\n",
    "See\n",
    "\n",
    "2 BS ME"
   ]
  },
  {
   "cell_type": "markdown",
   "metadata": {},
   "source": [
    "### Task\n",
    "Write a program that accepts an amount in US Dollars and Converts it to Philippine Pesos.\n",
    "\n",
    "### Requirements\n",
    "* Input the amount in dollars --> \n",
    "        output: [dollar amount] US sollar(s) = [philippine peso amount] Philippine Pesos\n",
    "* define a function dollars_to_pesos which accepts the amount dollars and returns the amount in pesos\n",
    "* conversion rate: PHP50 to USD1\n",
    "\n",
    "### Steps\n",
    "1. ask for the dollar amount \n",
    "2. compute for dollars_to_peso\n",
    "3. display the peso conversion\n",
    "\n",
    "### Variables/Algorithm\n",
    "* dollar amount --> USD\n",
    "* Peso amount --> PHP\n",
    "\n"
   ]
  },
  {
   "cell_type": "code",
   "execution_count": 4,
   "metadata": {},
   "outputs": [],
   "source": [
    "def dollars_to_peso(USD):\n",
    "    PHP = USD*50\n",
    "    return PHP\n",
    "\n"
   ]
  },
  {
   "cell_type": "code",
   "execution_count": 6,
   "metadata": {},
   "outputs": [
    {
     "name": "stdout",
     "output_type": "stream",
     "text": [
      "Amount in US dollars20\n",
      "20.0 US dollar(s) =  1000.0 Philippine Pesos\n"
     ]
    }
   ],
   "source": [
    "# ask for the dollar amount\n",
    "USD = float(input(\"Amount in US dollars\"))\n",
    "\n",
    "# compute for dollars_to_peso\n",
    "PHP = dollars_to_peso(USD)\n",
    "\n",
    "# display the peso conversion\n",
    "print(USD, \"US dollar(s) = \", PHP,\"Philippine Pesos\")\n",
    "\n"
   ]
  },
  {
   "cell_type": "markdown",
   "metadata": {},
   "source": [
    "### Task\n",
    "Write a program that accepts positive integers a & b, one per line\n",
    "\n",
    "### Requirements\n",
    "Output:\n",
    "* first line - SUM of a and b\n",
    "* second line - [a - b]\n",
    "* third line - a * b\n",
    "* fourth line - a/b without remainder so int\n",
    "* fifth line - remainder a/b so a//b\n",
    "\n",
    "### Steps\n",
    "1. ask for a\n",
    "2. ask for b\n",
    "3. sum = a + b\n",
    "4. dif = a - b\n",
    "5. prod = a * b\n",
    "6. quot = int(a/b)\n",
    "7. quot2 = a%b\n",
    "8. print sum etc.\n"
   ]
  },
  {
   "cell_type": "code",
   "execution_count": 9,
   "metadata": {},
   "outputs": [
    {
     "name": "stdout",
     "output_type": "stream",
     "text": [
      "Value for a128\n",
      "Value for b8\n",
      "136\n",
      "120\n",
      "1024\n",
      "16\n",
      "0\n"
     ]
    }
   ],
   "source": [
    "a = int(input(\"Value for a\"))\n",
    "b = int(input(\"Value for b\"))\n",
    "add = a + b\n",
    "dif = a - b\n",
    "prod = a * b\n",
    "quot = int(a/b)\n",
    "quot2 = a%b\n",
    "print (add)\n",
    "print (dif)\n",
    "print(prod)\n",
    "print(quot)\n",
    "print(quot2)"
   ]
  },
  {
   "cell_type": "markdown",
   "metadata": {},
   "source": [
    "### Task\n",
    "Write a program that compute Body Mass Index (BMI). The formula is;\n",
    "BMI = kg/m^2\n",
    "\n",
    "kg = weight in kg\n",
    "m = height in meters\n",
    "\n",
    "### Requirements\n",
    "* define a function compute_bmi that accepts kg and m and returns BMI\n",
    "* convert_cm_to_m function --> use google conversion\n",
    "* program prompts user to enter in kg and cm for kg and cm respectively\n",
    "* output: BMI: computed BMI\n",
    "\n",
    "### Steps\n",
    "1. ask for weight (kg)\n",
    "2. ask for height (cm)\n",
    "3. convert_cm_to_m\n",
    "4. compute_BMI\n",
    "5. display BMI: computed BMI"
   ]
  },
  {
   "cell_type": "code",
   "execution_count": 15,
   "metadata": {},
   "outputs": [],
   "source": [
    "def convert_cm_to_m(cm):\n",
    "    m = 0.01 * cm\n",
    "    return m\n",
    "\n",
    "def compute_BMI(kg,m):\n",
    "    BMI = kg/(m*m)\n",
    "    return BMI\n",
    "\n"
   ]
  },
  {
   "cell_type": "code",
   "execution_count": 18,
   "metadata": {},
   "outputs": [
    {
     "name": "stdout",
     "output_type": "stream",
     "text": [
      "What is your weight in kg? 70\n",
      "What is your height in cm? 170\n",
      "BMI:  24.221453287197235\n"
     ]
    }
   ],
   "source": [
    "kg = float(input(\"What is your weight in kg? \"))\n",
    "cm = float(input(\"What is your height in cm? \"))\n",
    "m = convert_cm_to_m(cm)\n",
    "BMI = compute_BMI(kg,m)\n",
    "print(\"BMI: \", BMI)\n",
    "\n"
   ]
  },
  {
   "cell_type": "code",
   "execution_count": null,
   "metadata": {},
   "outputs": [],
   "source": []
  }
 ],
 "metadata": {
  "kernelspec": {
   "display_name": "Python 3",
   "language": "python",
   "name": "python3"
  }
 },
 "nbformat": 4,
 "nbformat_minor": 4
}
