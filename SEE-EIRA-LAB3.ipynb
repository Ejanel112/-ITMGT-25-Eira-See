{
 "cells": [
  {
   "cell_type": "markdown",
   "metadata": {},
   "source": [
    "194552  \n",
    "SEE  \n",
    "2BS ME  "
   ]
  },
  {
   "cell_type": "markdown",
   "metadata": {},
   "source": [
    "### Problem 1: Social Media Example (6 Points)\n",
    "\n",
    "In a prototype of a new in-campus mobile app, there is social media support similar to what's seen on Facebook, Instagram and Spotify. Students and Faculty belong to the same social graph. Any student or teacher can follow other members of the app community. If two members follow each other, they are considered friends.\n",
    "\n",
    "Write a function relationship_status(from_member, to_member) that determines if two members are friends, or if the first person follows or is followed by the second person. The function should return one of these:\n",
    "\n",
    "\"follower\" (type is str)  \n",
    "\"followed by\"(type is str)  \n",
    "None (type is None)  "
   ]
  },
  {
   "cell_type": "code",
   "execution_count": 1,
   "metadata": {},
   "outputs": [],
   "source": [
    "social_graph = {\n",
    "    \"@bongolpoc\":{\"first_name\":\"Joselito\",\n",
    "                  \"last_name\":\"Olpoc\",\n",
    "                  \"following\":[\n",
    "                  ]},\n",
    "    \"@joaquin\":  {\"first_name\":\"Joaquin\",\n",
    "                  \"last_name\":\"Gonzales\",\n",
    "                  \"following\":[\n",
    "                      \"@chums\",\"@jobenilagan\"\n",
    "                  ]},\n",
    "    \"@chums\" : {\"first_name\":\"Matthew\",\n",
    "                \"last_name\":\"Uy\",\n",
    "                \"following\":[\n",
    "                    \"@bongolpoc\",\"@miketan\",\"@rudyang\",\"@joeilagan\"\n",
    "                ]},\n",
    "    \"@jobenilagan\":{\"first_name\":\"Joben\",\n",
    "                   \"last_name\":\"Ilagan\",\n",
    "                   \"following\":[\n",
    "                    \"@eeebeee\",\"@joeilagan\",\"@chums\",\"@joaquin\"\n",
    "                   ]},\n",
    "    \"@joeilagan\":{\"first_name\":\"Joe\",\n",
    "                  \"last_name\":\"Ilagan\",\n",
    "                  \"following\":[\n",
    "                    \"@eeebeee\",\"@jobenilagan\",\"@chums\"\n",
    "                  ]},\n",
    "    \"@eeebeee\":  {\"first_name\":\"Elizabeth\",\n",
    "                  \"last_name\":\"Ilagan\",\n",
    "                  \"following\":[\n",
    "                    \"@jobenilagan\",\"@joeilagan\"\n",
    "                  ]},}"
   ]
  },
  {
   "cell_type": "code",
   "execution_count": 2,
   "metadata": {},
   "outputs": [],
   "source": [
    "def relationship_status(from_member, to_member):\n",
    "    from_memberfollowing = list(social_graph[from_member]['following'])\n",
    "    to_memberfollowing = list(social_graph[to_member]['following'])\n",
    "    if to_member in from_memberfollowing and from_member in to_memberfollowing:\n",
    "        print(\"friends\")\n",
    "    elif to_member in from_memberfollowing or from_member in to_memberfollowing:\n",
    "        print (\"followed by\")\n",
    "    else:\n",
    "        return None"
   ]
  },
  {
   "cell_type": "code",
   "execution_count": 3,
   "metadata": {},
   "outputs": [
    {
     "name": "stdout",
     "output_type": "stream",
     "text": [
      "followed by\n"
     ]
    }
   ],
   "source": [
    "relationship_status(\"@chums\",\"@jobenilagan\")"
   ]
  },
  {
   "cell_type": "code",
   "execution_count": 4,
   "metadata": {},
   "outputs": [
    {
     "name": "stdout",
     "output_type": "stream",
     "text": [
      "friends\n"
     ]
    }
   ],
   "source": [
    "relationship_status(\"@jobenilagan\",\"@joeilagan\")"
   ]
  },
  {
   "cell_type": "code",
   "execution_count": 5,
   "metadata": {},
   "outputs": [
    {
     "name": "stdout",
     "output_type": "stream",
     "text": [
      "followed by\n"
     ]
    }
   ],
   "source": [
    "relationship_status(\"@bongolpoc\",\"@chums\")"
   ]
  },
  {
   "cell_type": "code",
   "execution_count": 6,
   "metadata": {},
   "outputs": [],
   "source": [
    "relationship_status(\"@bongolpoc\",\"@jobenilagan\")"
   ]
  },
  {
   "cell_type": "code",
   "execution_count": 7,
   "metadata": {},
   "outputs": [
    {
     "name": "stdout",
     "output_type": "stream",
     "text": [
      "followed by\n"
     ]
    }
   ],
   "source": [
    "relationship_status(\"@bongolpoc\",\"@chums\")"
   ]
  },
  {
   "cell_type": "code",
   "execution_count": 8,
   "metadata": {},
   "outputs": [
    {
     "name": "stdout",
     "output_type": "stream",
     "text": [
      "friends\n"
     ]
    }
   ],
   "source": [
    "relationship_status(\"@chums\",\"@joeilagan\")"
   ]
  },
  {
   "cell_type": "code",
   "execution_count": 9,
   "metadata": {},
   "outputs": [
    {
     "name": "stdout",
     "output_type": "stream",
     "text": [
      "friends\n"
     ]
    }
   ],
   "source": [
    "relationship_status(\"@joeilagan\",\"@chums\")"
   ]
  },
  {
   "cell_type": "markdown",
   "metadata": {},
   "source": [
    "### Problem 2 (6 Points)\n",
    "\n",
    "Write code that checks a possible winner for the current state of a 3x3 tic-tac-toe board.\n",
    "\n",
    "There are several strategies here:\n",
    "\n",
    "check if any symbol has all three slots in any row, column, or any of the two diagonals\n",
    "create a set for each row, column and diagonal; if the set count of 1 indicates a winner. (Why?)\n",
    "You are given the following board configurations:"
   ]
  },
  {
   "cell_type": "code",
   "execution_count": 10,
   "metadata": {},
   "outputs": [],
   "source": [
    "board1 = [\n",
    "['X','X','O'],\n",
    "['O','X','O'],\n",
    "['O','','X'],\n",
    "]\n",
    "\n",
    "board2 = [\n",
    "['X','X','O'],\n",
    "['O','X','O'],\n",
    "['','O','X'],\n",
    "]\n",
    "\n",
    "board3 = [\n",
    "['O','X','O'],\n",
    "['','O','X'],\n",
    "['X','X','O'],\n",
    "]\n",
    "\n",
    "board4 = [\n",
    "['X','X','X'],\n",
    "['O','X','O'],\n",
    "['O','','O'],\n",
    "]\n",
    "\n",
    "board5 = [\n",
    "['X','X','O'],\n",
    "['O','X','O'],\n",
    "['X','','O'],\n",
    "]\n",
    "\n",
    "board6 = [\n",
    "['X','X','O'],\n",
    "['O','X','O'],\n",
    "['X','',''],\n",
    "]\n",
    "\n",
    "\n",
    "\n",
    "def get_winner(board):\n",
    "    \n",
    "    #variables\n",
    "    \n",
    "    diag1 = [board[i][i] for i,v in enumerate(board)]\n",
    "    winner_diag1 = set(diag1)\n",
    "    \n",
    "    diag2 = [board[2-i][i]  for i,v in enumerate(board)]\n",
    "    winner_diag2 = set(diag2)\n",
    "    \n",
    "    row1 = [board[0][b] for b,v in enumerate(board)]\n",
    "    winner_row1 = set(row1)\n",
    "    \n",
    "    row2 = [board[1][b] for b,v in enumerate(board)]\n",
    "    winner_row2 = set(row2)\n",
    "    \n",
    "    row3 = [board[2][b] for b,v in enumerate(board)]\n",
    "    winner_row3 = set(row3)\n",
    "    \n",
    "    columns = [i for i in zip(*board)]\n",
    "    \n",
    "    column1 = [columns[0][b] for b,v in enumerate(columns)]\n",
    "    winner_column1 = set(column1)\n",
    "    \n",
    "    column2 = [columns[1][b] for b,v in enumerate(columns)]\n",
    "    winner_column2 = set(column2)\n",
    "    \n",
    "    column3 = [columns[2][b] for b,v in enumerate(columns)]\n",
    "    winner_column3 = set(column3)\n",
    "    \n",
    "    #diagonals\n",
    "    \n",
    "    if len(winner_diag1)==1:\n",
    "        print(winner_diag1)\n",
    "    \n",
    "    elif len(winner_diag2)==1:\n",
    "        print(winner_diag2)\n",
    "        \n",
    "    #rows\n",
    "\n",
    "    elif len(winner_row1)==1:\n",
    "        print(winner_row1)\n",
    "    \n",
    "    elif len(winner_row2)==1:\n",
    "        print(winner_row2)\n",
    "    \n",
    "    elif len(winner_row3)==1:\n",
    "        print(winner_row3)\n",
    "        \n",
    "    #columns\n",
    "        \n",
    "    elif len(winner_column1)==1:\n",
    "        print(winner_column1)\n",
    "        \n",
    "    elif len(winner_column2)==1:\n",
    "        print(winner_column2)\n",
    "        \n",
    "    elif len(winner_column3)==1:\n",
    "        print(winner_column3)\n",
    "        \n",
    "    else:\n",
    "        None\n",
    "    \n"
   ]
  },
  {
   "cell_type": "code",
   "execution_count": 11,
   "metadata": {},
   "outputs": [
    {
     "name": "stdout",
     "output_type": "stream",
     "text": [
      "{'X'}\n"
     ]
    }
   ],
   "source": [
    "get_winner(board1)"
   ]
  },
  {
   "cell_type": "code",
   "execution_count": 12,
   "metadata": {},
   "outputs": [],
   "source": [
    "get_winner(board6)"
   ]
  },
  {
   "cell_type": "code",
   "execution_count": 13,
   "metadata": {},
   "outputs": [
    {
     "name": "stdout",
     "output_type": "stream",
     "text": [
      "{'O'}\n"
     ]
    }
   ],
   "source": [
    "get_winner(board3)"
   ]
  },
  {
   "cell_type": "markdown",
   "metadata": {},
   "source": [
    "### Problem 3 (8 Points)\n",
    "\n",
    "During the pandemic, a shuttle van service is tasked to travel along a predefined circular route as follows:\n",
    "\n",
    "UP Diliman->Ateneo de Manila (Estimated Time: 10 mins)\n",
    "Ateneo de Manila->De La Salle Taft (Estimated Time: 35 mins)\n",
    "De La Salle Taft->UP Diliman (Estimated Time: 55 mins)\n",
    "The route is one-way only. So, the van cannot go back directly to UP Diliman from Ateneo de Manila; rather, it will have to drop by De La Salle Taft first before going to UP Diliman.\n",
    "\n",
    "Write a function called eta that accepts the source and destination of the van and returns the estimated number of minutes to reach the destination."
   ]
  },
  {
   "cell_type": "code",
   "execution_count": 15,
   "metadata": {},
   "outputs": [
    {
     "name": "stdout",
     "output_type": "stream",
     "text": [
      "['admu', 'dlsu', 'upd']\n"
     ]
    }
   ],
   "source": [
    "locations = {\n",
    "    \"admu\":{\n",
    "        \"name\":\"Ateneo de Manila University\",\n",
    "        \"latitude\":14.6394557,\n",
    "        \"longitude\":121.0758975        \n",
    "    },\n",
    "    \"upd\":{\n",
    "        \"name\":\"University of the Philippines-Diliman Campus\",\n",
    "        \"latitude\":14.6538519,\n",
    "        \"longitude\":121.0663348\n",
    "    },\n",
    "    \"dlsu\":{\n",
    "        \"name\":\"De La Salle University-Taft\",\n",
    "        \"latitude\":14.5647346,\n",
    "        \"longitude\":120.9909876\n",
    "\n",
    "    }, # <-- Note that Python does not complain about this extra comma. This is perfectly okay.\n",
    "       #     The creators of Python saw that dictionaries tend to be changed a lot, so allowing this is a\n",
    "       #     convenience for developers who need to add elements when needed.\n",
    "}\n",
    "\n",
    "legs = {\n",
    "     (\"upd\",\"admu\"):{\n",
    "         \"travel_time_mins\":10\n",
    "     },\n",
    "     (\"admu\",\"dlsu\"):{\n",
    "         \"travel_time_mins\":35\n",
    "     },\n",
    "     (\"dlsu\",\"upd\"):{\n",
    "         \"travel_time_mins\":55\n",
    "     }\n",
    "}\n",
    "\n",
    "\n",
    "path = []\n",
    "\n",
    "for j in legs:\n",
    "    for k in j:\n",
    "        h=k\n",
    "    path.append(h)\n",
    "print(path)\n",
    "\n"
   ]
  },
  {
   "cell_type": "code",
   "execution_count": 20,
   "metadata": {},
   "outputs": [
    {
     "name": "stdout",
     "output_type": "stream",
     "text": [
      "Source: dlsu\n",
      "Destination: admu\n",
      "65\n"
     ]
    }
   ],
   "source": [
    "def eta(source,destination):\n",
    "    places = legs.keys()\n",
    "\n",
    "    places2 = [i for i in zip(*places)]\n",
    "    start = str(source)\n",
    "    arrive = str(destination)\n",
    "    \n",
    "\n",
    "    if (source,destination) in legs.keys():\n",
    "        time = legs[source,destination]\n",
    "        time1 = time.get(\"travel_time_mins\")\n",
    "        print (time1)\n",
    "        \n",
    "    elif source == destination:\n",
    "        print(100)\n",
    "\n",
    "    elif (source,destination) == (\"dlsu\",\"admu\"):\n",
    "                print(10+55)\n",
    "            \n",
    "    elif source in (\"admu\",\"upd\",\"dlsu\") and destination in (\"admu\",\"upd\",\"dlsu\"):\n",
    "        total_time = 0\n",
    "        \n",
    "        try:\n",
    "            element = 0\n",
    "            i = 0\n",
    "            while path[element] <= destination:\n",
    "                keys = list(legs.keys())\n",
    "                time = keys[i]\n",
    "                time2 = legs.get(time)\n",
    "                time1 = time2.get(\"travel_time_mins\")\n",
    "                total_time = total_time + time1\n",
    "                element += 1 \n",
    "                i += 1\n",
    "            print(total_time)\n",
    "        \n",
    "        except:\n",
    "                \n",
    "            if (source,destination) == (\"admu\",\"upd\"):\n",
    "                print(35+55)\n",
    "            \n",
    "                \n",
    "            else:\n",
    "                print(\"Unknown\")\n",
    "\n",
    "    else:\n",
    "        print(\"None\")\n",
    "\n",
    "source = str(input(\"Source: \"))\n",
    "destination = str(input(\"Destination: \"))\n",
    "eta(source,destination)"
   ]
  },
  {
   "cell_type": "markdown",
   "metadata": {},
   "source": [
    "Hi sir! Just wanted to say I think I really almost have it! But I sort of ran out of time haha hope you can give more exercises to help in solidifying foundation esp since I'm the type to learn more after practicing (starting from simple exercises to harder ones to connect the dots) Thank you for your hard work!"
   ]
  }
 ],
 "metadata": {
  "kernelspec": {
   "display_name": "Python 3",
   "language": "python",
   "name": "python3"
  },
  "language_info": {
   "codemirror_mode": {
    "name": "ipython",
    "version": 3
   },
   "file_extension": ".py",
   "mimetype": "text/x-python",
   "name": "python",
   "nbconvert_exporter": "python",
   "pygments_lexer": "ipython3",
   "version": "3.7.6"
  }
 },
 "nbformat": 4,
 "nbformat_minor": 4
}
