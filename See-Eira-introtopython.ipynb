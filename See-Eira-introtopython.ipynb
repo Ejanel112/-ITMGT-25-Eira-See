{
 "cells": [
  {
   "cell_type": "markdown",
   "metadata": {},
   "source": [
    "194552\n",
    "\n",
    "SEE\n",
    "\n",
    "2 BS ME"
   ]
  },
  {
   "cell_type": "markdown",
   "metadata": {},
   "source": [
    "### Task\n",
    "Ask for 3 positive integers and print out the average\n",
    "\n",
    "Steps \n",
    "1. ask for positive integer 1\n",
    "2. ask for positive integer 2\n",
    "3. ask for positive integer 3\n",
    "4. compute average of the three integers\n",
    "5. print out the average of the integers\n"
   ]
  },
  {
   "cell_type": "code",
   "execution_count": 5,
   "metadata": {},
   "outputs": [],
   "source": [
    "def compute_average(int1,int2,int3):\n",
    "    average = (int1 + int2 +int3)/3\n",
    "    return average\n",
    "\n"
   ]
  },
  {
   "cell_type": "code",
   "execution_count": 8,
   "metadata": {},
   "outputs": [
    {
     "name": "stdout",
     "output_type": "stream",
     "text": [
      "Please input the first positive integer2\n",
      "Please input the second positive integer4\n",
      "Please input the third positive integer6\n",
      "The average of the integers is 4.0\n"
     ]
    }
   ],
   "source": [
    "#ask for positive int 1\n",
    "int1 = int(input(\"Please input the first positive integer\"))\n",
    "\n",
    "#ask for positive int 2\n",
    "int2 = int(input(\"Please input the second positive integer\"))\n",
    "\n",
    "#ask for positive int 3\n",
    "int3 = int(input(\"Please input the third positive integer\"))\n",
    "\n",
    "#compute the average of the integers\n",
    "average = compute_average(int1,int2,int3)\n",
    "\n",
    "#print out the average of the integers\n",
    "print(\"The average of the integers is\", average)\n",
    "\n"
   ]
  },
  {
   "cell_type": "code",
   "execution_count": null,
   "metadata": {},
   "outputs": [],
   "source": []
  }
 ],
 "metadata": {
  "kernelspec": {
   "display_name": "Python 3",
   "language": "python",
   "name": "python3"
  },
  "language_info": {
   "codemirror_mode": {
    "name": "ipython",
    "version": 3
   },
   "file_extension": ".py",
   "mimetype": "text/x-python",
   "name": "python",
   "nbconvert_exporter": "python",
   "pygments_lexer": "ipython3",
   "version": "3.7.6"
  }
 },
 "nbformat": 4,
 "nbformat_minor": 4
}
